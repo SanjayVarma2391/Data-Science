{
 "cells": [
  {
   "cell_type": "markdown",
   "id": "508f3e3d",
   "metadata": {},
   "source": [
    "# Data Science Tools and Ecosystem"
   ]
  },
  {
   "cell_type": "markdown",
   "id": "8015954a",
   "metadata": {},
   "source": [
    "In this notebook, Data Science Tools and Ecosystem are summarized."
   ]
  },
  {
   "cell_type": "markdown",
   "id": "1c5a2fa8",
   "metadata": {},
   "source": [
    "**Objectives**:\n",
    "\n",
    "1) List popular languages for Data Science\n",
    "2) Some of the commonly used libraries\n",
    "3) Data Science Tools\n",
    "4) Simple Arithmetic Expression\n",
    "5) How to convert 200 minutes to hours through arithmetic expression"
   ]
  },
  {
   "cell_type": "markdown",
   "id": "5bb9e66c",
   "metadata": {},
   "source": [
    "Some of the popular languages that Data Scientists use are:\n",
    "1) SQL\n",
    "2) R\n",
    "3) Python"
   ]
  },
  {
   "cell_type": "markdown",
   "id": "5fba12f5",
   "metadata": {},
   "source": [
    "Some of the commonly used libraries are:\n",
    "\n",
    "1. Pandas\n",
    "2. Numpy\n",
    "3. Seaborn"
   ]
  },
  {
   "cell_type": "markdown",
   "id": "a53dfa05",
   "metadata": {},
   "source": [
    "Data Science Tools\n",
    "\n",
    "1) RStudio\n",
    "2) Jupyter Notebook\n",
    "3) Spyder IDE"
   ]
  },
  {
   "cell_type": "markdown",
   "id": "647c5021",
   "metadata": {},
   "source": [
    "### Below are a few examples of evaluating arithmetic expressions in Python"
   ]
  },
  {
   "cell_type": "code",
   "execution_count": 1,
   "id": "6e366013",
   "metadata": {},
   "outputs": [
    {
     "data": {
      "text/plain": [
       "17"
      ]
     },
     "execution_count": 1,
     "metadata": {},
     "output_type": "execute_result"
    }
   ],
   "source": [
    "(3*4)+5\n",
    "#This a simple arithmetic expression to mutiply then add integers"
   ]
  },
  {
   "cell_type": "code",
   "execution_count": 5,
   "id": "c62e377b",
   "metadata": {},
   "outputs": [
    {
     "name": "stdout",
     "output_type": "stream",
     "text": [
      "3.3333333333333335 hours\n"
     ]
    }
   ],
   "source": [
    "mins = 200\n",
    "hours = mins/60\n",
    "print(hours , \"hours\")\n",
    "\n",
    "#This will convert 200 minutes to hours by diving by 60"
   ]
  },
  {
   "cell_type": "markdown",
   "id": "bac75dc8",
   "metadata": {},
   "source": [
    "## Author:\n",
    "\n",
    "Sanjay Varma\n"
   ]
  },
  {
   "cell_type": "code",
   "execution_count": null,
   "id": "41fc50d9",
   "metadata": {},
   "outputs": [],
   "source": []
  }
 ],
 "metadata": {
  "kernelspec": {
   "display_name": "Python 3 (ipykernel)",
   "language": "python",
   "name": "python3"
  },
  "language_info": {
   "codemirror_mode": {
    "name": "ipython",
    "version": 3
   },
   "file_extension": ".py",
   "mimetype": "text/x-python",
   "name": "python",
   "nbconvert_exporter": "python",
   "pygments_lexer": "ipython3",
   "version": "3.9.18"
  }
 },
 "nbformat": 4,
 "nbformat_minor": 5
}
